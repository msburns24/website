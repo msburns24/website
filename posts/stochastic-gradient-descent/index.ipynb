{
 "cells": [
  {
   "cell_type": "raw",
   "id": "e0285bf9",
   "metadata": {
    "vscode": {
     "languageId": "raw"
    }
   },
   "source": [
    "---\n",
    "title: Stochastic Gradient Descent\n",
    "subtitle: The Effects of Batch Size on Convergence\n",
    "image: gradient-descent.svg\n",
    "date: 2025-09-05\n",
    "code-overflow: scroll\n",
    "code-line-numbers: true\n",
    "---"
   ]
  },
  {
   "cell_type": "markdown",
   "id": "492d31ad",
   "metadata": {},
   "source": [
    "![](gradient-descent.svg)"
   ]
  },
  {
   "cell_type": "markdown",
   "id": "20554e70",
   "metadata": {},
   "source": [
    "<img \n",
    "  src=\"/images/jupyter-view-notebook.svg\"\n",
    "  href=\"https://www.github.com/msburns24/website/posts/stochastic-gradient-descent/index.ipynb\"\n",
    "  width=\"128\"\n",
    "/>"
   ]
  },
  {
   "cell_type": "markdown",
   "id": "91b677e2",
   "metadata": {},
   "source": [
    "Gradient descent is one of the most fundamental tools in data science, as it\n",
    "opens the door to models that don't have a closed-form solution. Even more,\n",
    "it sets the foundation for more complex optimization algorithms like momentum\n",
    "and Adam.\n",
    "\n",
    "An issue that arises with gradient descent is the time it takes to calculate\n",
    "the gradients for larger datasets. In such cases, we may look to algorithms\n",
    "like stochastic gradient descent to speed up the training. Effectively, we are\n",
    "sacrificing some accuracy in the direction of the gradient for faster\n",
    "calculation time of the gradients.\n",
    "\n",
    "One question that comes to mind for me: Is stochastic gradient descent worth\n",
    "the tradeoff of speed for randomness? How much better does it perform?\n",
    "\n",
    "Let's test this ourselves. We can use the standard Iris dataset, with some\n",
    "additional modifications that we'll get to in later sections."
   ]
  },
  {
   "cell_type": "markdown",
   "id": "4e163fd2",
   "metadata": {},
   "source": [
    "![](iris-setosa.jpg)"
   ]
  },
  {
   "cell_type": "markdown",
   "id": "aa19c85b",
   "metadata": {},
   "source": [
    "## Setup"
   ]
  },
  {
   "cell_type": "markdown",
   "id": "5e826eaa",
   "metadata": {},
   "source": [
    "To start, we'll import the needed modules and load the dataset:"
   ]
  },
  {
   "cell_type": "code",
   "execution_count": 173,
   "id": "3a9d72fc",
   "metadata": {},
   "outputs": [
    {
     "name": "stdout",
     "output_type": "stream",
     "text": [
      "<class 'pandas.core.frame.DataFrame'>\n",
      "RangeIndex: 150 entries, 0 to 149\n",
      "Data columns (total 5 columns):\n",
      " #   Column        Non-Null Count  Dtype  \n",
      "---  ------        --------------  -----  \n",
      " 0   sepal_length  150 non-null    float64\n",
      " 1   sepal_width   150 non-null    float64\n",
      " 2   petal_length  150 non-null    float64\n",
      " 3   petal_width   150 non-null    float64\n",
      " 4   species       150 non-null    object \n",
      "dtypes: float64(4), object(1)\n",
      "memory usage: 6.0+ KB\n"
     ]
    },
    {
     "data": {
      "text/html": [
       "<div>\n",
       "<style scoped>\n",
       "    .dataframe tbody tr th:only-of-type {\n",
       "        vertical-align: middle;\n",
       "    }\n",
       "\n",
       "    .dataframe tbody tr th {\n",
       "        vertical-align: top;\n",
       "    }\n",
       "\n",
       "    .dataframe thead th {\n",
       "        text-align: right;\n",
       "    }\n",
       "</style>\n",
       "<table border=\"1\" class=\"dataframe\">\n",
       "  <thead>\n",
       "    <tr style=\"text-align: right;\">\n",
       "      <th></th>\n",
       "      <th>sepal_length</th>\n",
       "      <th>sepal_width</th>\n",
       "      <th>petal_length</th>\n",
       "      <th>petal_width</th>\n",
       "      <th>species</th>\n",
       "    </tr>\n",
       "  </thead>\n",
       "  <tbody>\n",
       "    <tr>\n",
       "      <th>0</th>\n",
       "      <td>5.1</td>\n",
       "      <td>3.5</td>\n",
       "      <td>1.4</td>\n",
       "      <td>0.2</td>\n",
       "      <td>setosa</td>\n",
       "    </tr>\n",
       "    <tr>\n",
       "      <th>1</th>\n",
       "      <td>4.9</td>\n",
       "      <td>3.0</td>\n",
       "      <td>1.4</td>\n",
       "      <td>0.2</td>\n",
       "      <td>setosa</td>\n",
       "    </tr>\n",
       "    <tr>\n",
       "      <th>2</th>\n",
       "      <td>4.7</td>\n",
       "      <td>3.2</td>\n",
       "      <td>1.3</td>\n",
       "      <td>0.2</td>\n",
       "      <td>setosa</td>\n",
       "    </tr>\n",
       "    <tr>\n",
       "      <th>3</th>\n",
       "      <td>4.6</td>\n",
       "      <td>3.1</td>\n",
       "      <td>1.5</td>\n",
       "      <td>0.2</td>\n",
       "      <td>setosa</td>\n",
       "    </tr>\n",
       "    <tr>\n",
       "      <th>4</th>\n",
       "      <td>5.0</td>\n",
       "      <td>3.6</td>\n",
       "      <td>1.4</td>\n",
       "      <td>0.2</td>\n",
       "      <td>setosa</td>\n",
       "    </tr>\n",
       "  </tbody>\n",
       "</table>\n",
       "</div>"
      ],
      "text/plain": [
       "   sepal_length  sepal_width  petal_length  petal_width species\n",
       "0           5.1          3.5           1.4          0.2  setosa\n",
       "1           4.9          3.0           1.4          0.2  setosa\n",
       "2           4.7          3.2           1.3          0.2  setosa\n",
       "3           4.6          3.1           1.5          0.2  setosa\n",
       "4           5.0          3.6           1.4          0.2  setosa"
      ]
     },
     "execution_count": 173,
     "metadata": {},
     "output_type": "execute_result"
    }
   ],
   "source": [
    "# Load modules\n",
    "from __future__ import annotations\n",
    "import time\n",
    "import pandas as pd\n",
    "import numpy as np\n",
    "import matplotlib.pyplot as plt\n",
    "import seaborn as sns\n",
    "\n",
    "# Setup type hints\n",
    "from typing import Optional\n",
    "from numpy.typing import NDArray\n",
    "\n",
    "# Load data\n",
    "df = sns.load_dataset('iris')\n",
    "df.info()\n",
    "df.head(5)"
   ]
  },
  {
   "cell_type": "markdown",
   "id": "b5e3e0b5",
   "metadata": {},
   "source": [
    "## Data Preparation"
   ]
  },
  {
   "cell_type": "markdown",
   "id": "e504d42c",
   "metadata": {},
   "source": [
    "To make the experiment cleaner, I am going to make a few changes to the\n",
    "dataset. As a good general practice, I like to create helper functions for each\n",
    "step of my data preparation. This helps with debugging and makes the whole\n",
    "process much smoother, plus we can create a data preparation workflow and apply\n",
    "all steps at once."
   ]
  },
  {
   "cell_type": "markdown",
   "id": "33608d2b",
   "metadata": {},
   "source": [
    "First, I want to apply **standard scaling.** This is typical, but will improve\n",
    "the speed of our training -- no need to put any further odds against us. This\n",
    "is done by effectively converting our raw data into z-scores:\n",
    "\n",
    "$$ x_{scaled} = \\frac{x - \\mu_x}{\\sigma_x} $$"
   ]
  },
  {
   "cell_type": "code",
   "execution_count": 128,
   "id": "d0c257fa",
   "metadata": {},
   "outputs": [],
   "source": [
    "def standard_scale(data: pd.Series) -> pd.Series:\n",
    "    return (data - data.mean()) / data.std()"
   ]
  },
  {
   "cell_type": "markdown",
   "id": "f8dd5cd6",
   "metadata": {},
   "source": [
    "Next, I want to use **one-hot encoding** on the output labels. This means our\n",
    "model will be a \"setosa predictor\", as opposed to a predictor for all 3\n",
    "species."
   ]
  },
  {
   "cell_type": "code",
   "execution_count": 129,
   "id": "25d1650d",
   "metadata": {},
   "outputs": [],
   "source": [
    "def one_hot_encode(data: pd.Series, target: str) -> pd.Series:\n",
    "    return data.eq(target).astype(int)"
   ]
  },
  {
   "cell_type": "markdown",
   "id": "26cfa378",
   "metadata": {},
   "source": [
    "Finally, I wan to apply **bootstrap resampling** on the whole dataset. The\n",
    "standard Iris dataset only has 150 samples, which is trivially fast to compute\n",
    "the gradient. To make the impact of gradient calculations clearer, I'll use\n",
    "bootstrap resampling to expand our dataset to a **new size of 100,000**."
   ]
  },
  {
   "cell_type": "code",
   "execution_count": 130,
   "id": "84b73ef6",
   "metadata": {},
   "outputs": [],
   "source": [
    "def bootstrap_resample(df: pd.DataFrame, size: int) -> pd.DataFrame:\n",
    "    return df.sample(size, replace=True).reset_index(drop=True)"
   ]
  },
  {
   "cell_type": "markdown",
   "id": "a8ea108b",
   "metadata": {},
   "source": [
    "As a final step, we can separate our data into the feature matrix `X` and\n",
    "label vector `y`:"
   ]
  },
  {
   "cell_type": "code",
   "execution_count": null,
   "id": "be503539",
   "metadata": {},
   "outputs": [],
   "source": [
    "def separate_xy(df: pd.DataFrame, target_column: str) -> tuple[NDArray, ...]:\n",
    "    X = df.drop(target_column, axis=1).values\n",
    "    y = df[target_column].values\n",
    "    return X, y"
   ]
  },
  {
   "cell_type": "markdown",
   "id": "208defa7",
   "metadata": {},
   "source": [
    "With all the preparation steps ready, we can create a full workflow to\n",
    "transform our raw data into a dataset ready for experimentation:"
   ]
  },
  {
   "cell_type": "code",
   "execution_count": 132,
   "id": "7ac021d4",
   "metadata": {},
   "outputs": [],
   "source": [
    "def prepare_data(df: pd.DataFrame, size: int) -> tuple[NDArray, ...]:\n",
    "    df = df.copy()   # Preserve raw data\n",
    "    target_column = 'species'\n",
    "    target_species = 'setosa'\n",
    "\n",
    "    for column in df.columns:\n",
    "        if column == target_column:\n",
    "            df[column] = one_hot_encode(df[column], target_species)\n",
    "        else:\n",
    "            df[column] = standard_scale(df[column])\n",
    "\n",
    "    df = bootstrap_resample(df, size=size)\n",
    "    X, y = separate_xy(df, target_column)\n",
    "    return X, y"
   ]
  },
  {
   "cell_type": "markdown",
   "id": "c95d9036",
   "metadata": {},
   "source": [
    "## Logistic Regression Model"
   ]
  },
  {
   "cell_type": "markdown",
   "id": "251fb2fb",
   "metadata": {},
   "source": [
    "![](sigmoid.jpg)"
   ]
  },
  {
   "cell_type": "markdown",
   "id": "5f1a98f2",
   "metadata": {},
   "source": [
    "The term *logistic regression* primarily comes from the logistic function,\n",
    "also called the **sigmoid function**, $\\sigma(z)$:\n",
    "\n",
    "$$\n",
    "\\sigma (z) = \\frac{1}{1 + \\exp{(-z)}}\n",
    "$$\n",
    "\n",
    "This S-shaped curve provides a maps any real number to a value in between 0\n",
    "and 1. Mathematically, we can express this as:\n",
    "\n",
    "$$\n",
    "\\sigma : \\mathbb{R} \\rightarrow \\left[ 0, 1 \\right]\n",
    "$$\n",
    "\n",
    "This function has a huge benefit: If we used linear regression to model\n",
    "probabilities, we may end up with probabilities like $p = 527.68$ or $p = -1$,\n",
    "since linear regression puts no limit on the bounds of the output. If we pass\n",
    "the linear model through the sigmoid function, however, we can ensure that all\n",
    "output values are between 0 and 1, which we can then interpret as a\n",
    "probability."
   ]
  },
  {
   "cell_type": "code",
   "execution_count": 133,
   "id": "683b5729",
   "metadata": {},
   "outputs": [],
   "source": [
    "def sigmoid(z: NDArray) -> NDArray:\n",
    "    return 1 / (1 + np.exp(-z))"
   ]
  },
  {
   "cell_type": "markdown",
   "id": "9f924737",
   "metadata": {},
   "source": [
    "To keep our classification model simple, we will use a Linear Regression model,\n",
    "which builds on the linear regression model by passing it though the sigmoid\n",
    "function. More precisely:\n",
    "\n",
    "$$\n",
    "p(y = 1 | x) = \\sigma ( x^T \\theta )\n",
    "$$\n",
    "\n",
    "where $p(y = 1 | x)$ is the probability of class 1 given the input features\n",
    "$x$, and $\\theta$ is the vector of coefficients. \n",
    "\n",
    "Note that the coefficients also includes a bias (intercept) term as the first\n",
    "element, so we typically pad matrix $X$ with ones in the first column, allowing\n",
    "us to simply perform matrix multiplication to get our predictions."
   ]
  },
  {
   "cell_type": "code",
   "execution_count": 134,
   "id": "dfca342c",
   "metadata": {},
   "outputs": [],
   "source": [
    "def predict(X: NDArray, theta: NDArray) -> NDArray:\n",
    "    '''\n",
    "    Parameters\n",
    "    ----------\n",
    "    X : NDArray\n",
    "        Input features, shape: `(n, d)`\n",
    "    theta : NDArray\n",
    "        Coefficients, shape: `(d + 1,)`\n",
    "\n",
    "    Returns\n",
    "    -------\n",
    "    p : NDArray\n",
    "        Probabilities, shape: `(n,)`\n",
    "    '''\n",
    "    X_aug = np.c_[np.ones((X.shape[0], 1)), X]\n",
    "    z = X_aug @ theta.reshape(-1, 1)\n",
    "    p = sigmoid(z)\n",
    "    return p.flatten()"
   ]
  },
  {
   "cell_type": "markdown",
   "id": "5d4a35f9",
   "metadata": {},
   "source": [
    "## Cross-Entropy Loss"
   ]
  },
  {
   "cell_type": "markdown",
   "id": "090dc576",
   "metadata": {},
   "source": [
    "One of the most common losses used in logistic regression is cross-entropy:\n",
    "\n",
    "$$\n",
    "L(\\theta) = - \\frac{1}{n} \\sum_{i=1}^n \\bigl(\n",
    "    y_i \\log{p_i} + (1 - y_i) \\log{(1 - p_i)}\n",
    "\\bigr)\n",
    "$$"
   ]
  },
  {
   "cell_type": "code",
   "execution_count": 135,
   "id": "dc98ff54",
   "metadata": {},
   "outputs": [],
   "source": [
    "def cross_entropy(y: NDArray, p: NDArray) -> np.number:\n",
    "    '''\n",
    "    Parameters\n",
    "    ----------\n",
    "    y : NDArray\n",
    "        Shape: `(n,)`\n",
    "    p : NDArray\n",
    "        Shape: `(n,)`\n",
    "    '''\n",
    "    y, p = y.flatten(), p.flatten()\n",
    "    entropy = - y * np.log(p) - (1 - y) * np.log(1 - p)\n",
    "    return np.mean(entropy)"
   ]
  },
  {
   "cell_type": "markdown",
   "id": "dc78e0bc",
   "metadata": {},
   "source": [
    "For both batch and stochastic gradient descent, we will need the gradient of\n",
    "the loss function:\n",
    "\n",
    "$$\n",
    "\\nabla L(\\theta) = - \\frac{1}{n} \\sum_{i=1}^n \\bigl(\n",
    "    (y_i - p_i) \\; x_i\n",
    "\\bigr)\n",
    "$$"
   ]
  },
  {
   "cell_type": "code",
   "execution_count": 136,
   "id": "3e21f7a1",
   "metadata": {},
   "outputs": [],
   "source": [
    "def gradient(X: NDArray, y: NDArray, p: NDArray) -> np.number:\n",
    "    '''\n",
    "    Parameters\n",
    "    ----------\n",
    "    X : NDArray\n",
    "        Input features, shape: `(n, d)`\n",
    "    y : NDArray\n",
    "        Output labels, shape: `(n,)`\n",
    "    p : NDArray\n",
    "        Predictions, shape: `(n,)`\n",
    "\n",
    "    Returns\n",
    "    -------\n",
    "    grad : NDArray\n",
    "        Gradients, shape: `(d + 1,)`\n",
    "    '''\n",
    "    X_aug = np.c_[np.ones((X.shape[0], 1)), X]\n",
    "    diff = (y - p).reshape(-1, 1)\n",
    "    grad = np.mean(- X_aug * diff, axis=0)\n",
    "    return grad"
   ]
  },
  {
   "cell_type": "markdown",
   "id": "c2382f35",
   "metadata": {},
   "source": [
    "## Batch Gradient Descent"
   ]
  },
  {
   "cell_type": "markdown",
   "id": "8e20f061",
   "metadata": {},
   "source": [
    "![](gradient-descent.png)"
   ]
  },
  {
   "cell_type": "markdown",
   "id": "9a898dba",
   "metadata": {},
   "source": [
    "While linear regression can be performed using a single, closed-form expression,\n",
    "we aren't as lucky with many other machine learning models. The best case is\n",
    "using an iterative training approach like gradient descent. \n",
    "\n",
    "We start by initializing a random vector for $\\theta$, then update iteratively:\n",
    "\n",
    "$$\n",
    "\\theta^{(\\tau + 1)} = \\theta^{(\\tau)} - \\eta \\nabla L(\\theta^{(\\tau)})\n",
    "$$\n",
    "\n",
    "Where $\\tau$ is the step index, $\\theta^{(\\tau)}$ is the coefficient vector at\n",
    "step $\\tau$, and $\\eta$ is the learning rate. While we have the option to make\n",
    "$\\eta$ a function of $\\tau$--i.e. allowing larger or smaller steps at each \n",
    "iteration--we will keep it constant here for simplicity.\n",
    "\n",
    "::: {.callout-note}\n",
    "The standard version of gradient descent is also called \"batch\" gradient\n",
    "descent. This naming is a little confusing, as it seems to imply that the\n",
    "gradient is calculated in batches, when it is actually calculated for all\n",
    "samples at once. A better way to think of this naming is that the gradient is\n",
    "calculated in a single \"batch\" for each iteration.\n",
    ":::"
   ]
  },
  {
   "cell_type": "code",
   "execution_count": 137,
   "id": "29cfa753",
   "metadata": {},
   "outputs": [],
   "source": [
    "def batch_gradient_descent(\n",
    "        X: NDArray,\n",
    "        y: NDArray,\n",
    "        epochs: int,\n",
    "        learning_rate: float=0.05,\n",
    ") -> tuple[NDArray, NDArray]:\n",
    "    '''\n",
    "    Perform batch gradient descent over a given number of epochs.\n",
    "\n",
    "    Parameters\n",
    "    ----------\n",
    "    X : NDArray\n",
    "        Input features, shape `(n, d)`\n",
    "    y : NDArray\n",
    "        Output labels, shape `(n, 1)`\n",
    "    epochs : int\n",
    "        The number of training epochs to perform.\n",
    "    learning_rate : float, default: 0.05\n",
    "        The learning rate to use for gradient descent.\n",
    "\n",
    "    Returns\n",
    "    -------\n",
    "    theta : NDArray\n",
    "        The bias and coefficients, shape `(d + 1,)`\n",
    "    losses : NDArray\n",
    "        The history of training losses\n",
    "    '''\n",
    "    theta = np.random.random(size=(X.shape[1] + 1,))\n",
    "    losses = np.zeros((epochs, ))\n",
    "\n",
    "    for epoch in range(epochs):\n",
    "        p = predict(X, theta)\n",
    "        losses[epoch] = cross_entropy(y, p)\n",
    "        grad = gradient(X, y, p)\n",
    "        theta = theta - learning_rate * grad\n",
    "\n",
    "    return theta, losses"
   ]
  },
  {
   "cell_type": "markdown",
   "id": "ce7d508a",
   "metadata": {},
   "source": [
    "![](stochastic-gradient-descent.png)"
   ]
  },
  {
   "cell_type": "markdown",
   "id": "e995e569",
   "metadata": {},
   "source": [
    "## Stochastic Gradient Descent"
   ]
  },
  {
   "cell_type": "markdown",
   "id": "cb26e393",
   "metadata": {},
   "source": [
    "As is our objective to test, there are often situations where calculating the\n",
    "entire $\\nabla L(\\theta)$ isn't practical due to the time it takes to\n",
    "calculate. In these cases, we can use a modified version of gradient descent\n",
    "called stochastic gradient descent. Instead of using the entire training set\n",
    "to calculate the gradient, we take a smaller batch of samples and use those\n",
    "instead. \n",
    "\n",
    "If we define an indexing set $\\mathbb{I} = \\{ 1, 2, \\dots, n \\}$, then we can\n",
    "take a batch of samples $B \\subset \\mathbb{I}$, where $\\left| B \\right| < n$.\n",
    "Our gradient equation then becomes:\n",
    "\n",
    "$$\n",
    "\\nabla L(\\theta) = - \\frac{1}{\\left| B \\right|} \\sum_{i \\in B} \\bigl(\n",
    "    (y_i - p_i) \\; x_i\n",
    "\\bigr)\n",
    "$$"
   ]
  },
  {
   "cell_type": "code",
   "execution_count": 138,
   "id": "3724d14b",
   "metadata": {},
   "outputs": [],
   "source": [
    "def get_batched_data(\n",
    "        X: NDArray,\n",
    "        y: NDArray,\n",
    "        size: int\n",
    ") -> tuple[NDArray, NDArray]:\n",
    "    '''\n",
    "    Parameters\n",
    "    ----------\n",
    "    X : NDArray\n",
    "        The input features, shape: `(n, d)`\n",
    "    y : NDArray\n",
    "        The output labels, shape: `(n, )`\n",
    "    size : int\n",
    "        The batch size\n",
    "    '''\n",
    "    full_indexes = np.arange(X.shape[0])\n",
    "    batch_indexes = np.random.choice(full_indexes, size=size)\n",
    "    return X[batch_indexes], y[batch_indexes]"
   ]
  },
  {
   "cell_type": "markdown",
   "id": "5eac731e",
   "metadata": {},
   "source": [
    "Outside of using batches instead of the full batch, our process for stochastic\n",
    "gradient descent is almost identical to batched gradient descent. However, to\n",
    "ensure we're training to the same level between batch and stochastic\n",
    "gradient descent, we'll add an additional, optional parameter for early\n",
    "stopping, measured by the training loss. If we provide this parameter,\n",
    "stop training and return the parameters. Otherwise, we'll stop when the \n",
    "number of epochs is reached."
   ]
  },
  {
   "cell_type": "code",
   "execution_count": 165,
   "id": "1ffe30b8",
   "metadata": {},
   "outputs": [],
   "source": [
    "def stochastic_gradient_descent(\n",
    "        X: NDArray,\n",
    "        y: NDArray,\n",
    "        epochs: int=50,\n",
    "        learning_rate: float=0.05,\n",
    "        batch_size: int=32,\n",
    "        early_stopping_loss: Optional[float]=None\n",
    ") -> tuple[NDArray, NDArray]:\n",
    "    '''\n",
    "    Perform batch gradient descent over a given number of epochs.\n",
    "\n",
    "    Parameters\n",
    "    ----------\n",
    "    X : NDArray\n",
    "        Input features, shape `(n, d)`\n",
    "    y : NDArray\n",
    "        Output labels, shape `(n, 1)`\n",
    "    epochs : int\n",
    "        The number of training epochs to perform.\n",
    "    learning_rate : float, default: 0.05\n",
    "        The learning rate to use for gradient descent.\n",
    "    batch_size : int, default: 32\n",
    "        The size of each batch\n",
    "    early_stopping_loss : float | None, default: None\n",
    "        The loss threshold to stop training. If this is never reached, will\n",
    "        train for the full number of epochs (default).\n",
    "\n",
    "    Returns\n",
    "    -------\n",
    "    theta : NDArray\n",
    "        The bias and coefficients, shape `(d + 1,)`\n",
    "    losses : NDArray\n",
    "        The history of training losses\n",
    "    '''\n",
    "    theta = np.random.random(size=(X.shape[1] + 1,))\n",
    "    losses = np.zeros((epochs, ))\n",
    "\n",
    "    if early_stopping_loss is None:\n",
    "        early_stopping_loss = -float('inf')\n",
    "\n",
    "    for epoch in range(epochs):\n",
    "        X_b, y_b = get_batched_data(X, y, batch_size)\n",
    "        p = predict(X_b, theta)\n",
    "        losses[epoch] = cross_entropy(y_b, p)\n",
    "\n",
    "        if losses[epoch] <= early_stopping_loss:\n",
    "            return theta, losses\n",
    "        else:\n",
    "            grad = gradient(X_b, y_b, p)\n",
    "            theta = theta - learning_rate * grad\n",
    "\n",
    "    return theta, losses"
   ]
  },
  {
   "cell_type": "markdown",
   "id": "c4d33036",
   "metadata": {},
   "source": [
    "## Experiment Setup"
   ]
  },
  {
   "cell_type": "markdown",
   "id": "1a7a53bc",
   "metadata": {},
   "source": [
    "Now we have all the tools to setup an experiment. The main item to be careful\n",
    "of is ensuring that stochastic gradient descent reaches the same loss as\n",
    "batch gradient descent. Otherwise, we may be training for a shorter time but\n",
    "receiving a poorer model."
   ]
  },
  {
   "cell_type": "code",
   "execution_count": 170,
   "id": "36302693",
   "metadata": {},
   "outputs": [],
   "source": [
    "def time_gradient_descent(\n",
    "        sizes: list[int],\n",
    "        epochs: int=50,\n",
    "        learning_rate: float=0.05,\n",
    "        batch_size: int=32,\n",
    ") -> pd.DataFrame:\n",
    "    times = {'Size': sizes, 'Batch': [], 'Stochastic': []}\n",
    "    for size in sizes:\n",
    "        X, y = prepare_data(df, size)\n",
    "        \n",
    "        # Batch Gradient Descent\n",
    "        t_start = time.perf_counter()\n",
    "        _, batch_losses = batch_gradient_descent(\n",
    "            X, y,\n",
    "            epochs=epochs,\n",
    "            learning_rate=learning_rate,\n",
    "        )\n",
    "        t_end = time.perf_counter()\n",
    "        times['Batch'].append(t_end - t_start)\n",
    "\n",
    "        # Stochastic Gradient Descent\n",
    "        t_start = time.perf_counter()\n",
    "        _ = stochastic_gradient_descent(\n",
    "            X, y,\n",
    "            epochs=10_000,\n",
    "            learning_rate=learning_rate,\n",
    "            batch_size=batch_size,\n",
    "            early_stopping_loss=np.min(batch_losses)\n",
    "        )\n",
    "        t_end = time.perf_counter()\n",
    "        times['Stochastic'].append(t_end - t_start)\n",
    "    \n",
    "    return pd.DataFrame(times)"
   ]
  },
  {
   "cell_type": "markdown",
   "id": "7a5378c0",
   "metadata": {},
   "source": [
    "To add additional stability, we can run our experiment several times and take\n",
    "the mean of the results:"
   ]
  },
  {
   "cell_type": "code",
   "execution_count": 178,
   "id": "305dfe89",
   "metadata": {},
   "outputs": [],
   "source": [
    "sizes = list(range(1000, 50000 + 1, 1000))\n",
    "n_simulations = 20\n",
    "dataframes = []\n",
    "\n",
    "for _ in range(n_simulations):\n",
    "    dataframes.append(time_gradient_descent(sizes))\n",
    "\n",
    "times_data = pd.concat(dataframes).groupby('Size', as_index=False).mean()"
   ]
  },
  {
   "cell_type": "markdown",
   "id": "dbaffdfb",
   "metadata": {},
   "source": [
    "Finally, let's see how the algorithms performed!"
   ]
  },
  {
   "cell_type": "code",
   "execution_count": 182,
   "id": "706ac472",
   "metadata": {},
   "outputs": [
    {
     "data": {
      "image/png": "[encoded data removed]",
      "text/plain": [
       "<Figure size 1200x800 with 1 Axes>"
      ]
     },
     "metadata": {},
     "output_type": "display_data"
    }
   ],
   "source": [
    "fig, ax = plt.subplots(figsize=(12, 8))\n",
    "times_data.plot(x='Size', y='Batch', ax=ax, logy=True)\n",
    "times_data.plot(x='Size', y='Stochastic', ax=ax, logy=True)\n",
    "ax.set_xlabel('Number of Samples')\n",
    "ax.set_ylabel('Training Time (ms)')\n",
    "ax.set_xlim(0)\n",
    "ax.legend()\n",
    "ax.set_title('Training Time of Batch vs. Stochastic Gradient Descent')\n",
    "plt.show()"
   ]
  },
  {
   "cell_type": "markdown",
   "id": "570444fc",
   "metadata": {},
   "source": [
    "## Conclusion"
   ]
  },
  {
   "cell_type": "markdown",
   "id": "75c82a6a",
   "metadata": {},
   "source": [
    "It's quite incredible that stochastic gradient descent ran this much faster\n",
    "than batch gradient descent. Originally, I had expected to see an optimal\n",
    "point: a crossing of the two curves that indicates the point where batch\n",
    "gradient descent isn't worth it and stochastic gradient descent becomes a\n",
    "better option. Instead, it looks like nearly always, stochastic gradient\n",
    "descent takes the cake.\n",
    "\n",
    "The most peculiar finding is the sudden jump in training time for batch\n",
    "gradient descent, at around 26,000 samples. This baffled me for a while, as I\n",
    "expected a smooth transition of training time as a function of sample size. \n",
    "However, after re-running this several times, I kept getting the same result.\n",
    "After a bit of research, I found some enlightening information.\n",
    "\n",
    "The jump in training time for batch gradient descent can likely be attributed\n",
    "to memory allocation. Up through around 26k rows, the arrays neatly fit into\n",
    "our CPU cache (L2/L3). At around 27k rows, the matrix-vector multiplications\n",
    "no longer fully fit in the cache, forcing far more frequent main memory access.\n",
    "This produced a sudden slowdown, requiring a change in the backend algorithm,\n",
    "ultimately affecting the performance.\n",
    "\n",
    "While I started this with the intent of understanding batch gradient descent,\n",
    "it also provided an insightful lesson in the backend nuances of Numpy."
   ]
  }
 ],
 "metadata": {
  "kernelspec": {
   "display_name": ".venv",
   "language": "python",
   "name": "python3"
  },
  "language_info": {
   "codemirror_mode": {
    "name": "ipython",
    "version": 3
   },
   "file_extension": ".py",
   "mimetype": "text/x-python",
   "name": "python",
   "nbconvert_exporter": "python",
   "pygments_lexer": "ipython3",
   "version": "3.12.6"
  }
 },
 "nbformat": 4,
 "nbformat_minor": 5
}
